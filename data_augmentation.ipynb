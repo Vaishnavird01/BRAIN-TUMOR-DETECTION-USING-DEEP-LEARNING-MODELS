{
 "cells": [
  {
   "cell_type": "code",
   "execution_count": null,
   "id": "adbe067e",
   "metadata": {},
   "outputs": [],
   "source": [
    "import tensorflow as tf\n",
    "from keras.preprocessing.image import ImageDataGenerator\n",
    "import cv2\n",
    "import imutils\n",
    "import matplotlib.pyplot as plt\n",
    "from os import listdir\n",
    "import time"
   ]
  },
  {
   "cell_type": "code",
   "execution_count": null,
   "id": "280bf7e4",
   "metadata": {},
   "outputs": [],
   "source": [
    "# Nicely formatted time string\n",
    "def hms_string(sec_elapsed):\n",
    "    h = int(sec_elapsed / (60 * 60))\n",
    "    m = int((sec_elapsed % (60 * 60)) / 60)\n",
    "    s = sec_elapsed % 60\n",
    "    return f\"{h}:{m}:{round(s,1)}\""
   ]
  },
  {
   "cell_type": "code",
   "execution_count": null,
   "id": "418a1857",
   "metadata": {},
   "outputs": [],
   "source": [
    "# Function to augment data\n",
    "def augment_data(file_dir, n_generated_samples, save_to_dir):\n",
    "    \"\"\"\n",
    "    Arguments:\n",
    "        file_dir: Directory where images to augment are located.\n",
    "        n_generated_samples: Number of generated samples per image.\n",
    "        save_to_dir: Directory where generated images will be saved.\n",
    "    \"\"\"\n",
    "\n",
    "    data_gen = ImageDataGenerator(rotation_range=10, \n",
    "                                  width_shift_range=0.1, \n",
    "                                  height_shift_range=0.1, \n",
    "                                  shear_range=0.1, \n",
    "                                  brightness_range=(0.3, 1.0),\n",
    "                                  horizontal_flip=True, \n",
    "                                  vertical_flip=True, \n",
    "                                  fill_mode='nearest')\n",
    "\n",
    "    for filename in listdir(file_dir):\n",
    "        image = cv2.imread(file_dir + '/' + filename)\n",
    "        image = image.reshape((1,)+image.shape)\n",
    "        save_prefix = 'aug_' + filename[:-4]\n",
    "        i = 0\n",
    "        for batch in data_gen.flow(x=image, batch_size=1, save_to_dir=save_to_dir, \n",
    "                                   save_prefix=save_prefix, save_format='jpg'):\n",
    "            i += 1\n",
    "            if i > n_generated_samples:\n",
    "                break"
   ]
  },
  {
   "cell_type": "code",
   "execution_count": null,
   "id": "3d4a6532",
   "metadata": {},
   "outputs": [],
   "source": [
    "# Measure execution time\n",
    "start_time = time.time()\n",
    "\n",
    "# Define paths (these need to be set before running)\n",
    "augmented_data_path = 'augmented_data/'\n",
    "yes_path = 'path_to_yes_images/'\n",
    "no_path = 'path_to_no_images/'\n",
    "\n",
    "# Augment data\n",
    "augment_data(file_dir=yes_path, n_generated_samples=6, save_to_dir=augmented_data_path+'yes')\n",
    "augment_data(file_dir=no_path, n_generated_samples=9, save_to_dir=augmented_data_path+'no')\n",
    "\n",
    "end_time = time.time()\n",
    "execution_time = (end_time - start_time)\n",
    "print(f\"Elapsed time: {hms_string(execution_time)}\")"
   ]
  },
  {
   "cell_type": "code",
   "execution_count": null,
   "id": "929c77fc",
   "metadata": {},
   "outputs": [],
   "source": [
    "# Function to summarize dataset\n",
    "def data_summary(main_path):\n",
    "    yes_path = main_path+'yes'\n",
    "    no_path = main_path+'no'\n",
    "    \n",
    "    m_pos = len(listdir(yes_path))\n",
    "    m_neg = len(listdir(no_path))\n",
    "    m = (m_pos + m_neg)\n",
    "    \n",
    "    pos_prec = (m_pos * 100.0) / m\n",
    "    neg_prec = (m_neg * 100.0) / m\n",
    "    \n",
    "    print(f\"Number of examples: {m}\")\n",
    "    print(f\"Percentage of positive examples: {pos_prec}%, number of pos examples: {m_pos}\") \n",
    "    print(f\"Percentage of negative examples: {neg_prec}%, number of neg examples: {m_neg}\")"
   ]
  }
 ],
 "metadata": {
  "kernelspec": {
   "display_name": "Python 3 (ipykernel)",
   "language": "python",
   "name": "python3"
  },
  "language_info": {
   "codemirror_mode": {
    "name": "ipython",
    "version": 3
   },
   "file_extension": ".py",
   "mimetype": "text/x-python",
   "name": "python",
   "nbconvert_exporter": "python",
   "pygments_lexer": "ipython3",
   "version": "3.12.7"
  }
 },
 "nbformat": 4,
 "nbformat_minor": 5
}
